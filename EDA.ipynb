{
 "cells": [
  {
   "cell_type": "markdown",
   "metadata": {},
   "source": [
    "### Importacion de librerias"
   ]
  },
  {
   "cell_type": "code",
   "execution_count": 4,
   "metadata": {},
   "outputs": [],
   "source": [
    "import pandas as pd\n",
    "import matplotlib.pyplot as plt \n",
    "import numpy as np\n",
    "import datetime\n",
    "import warnings\n",
    "warnings.filterwarnings(\"ignore\")\n",
    "import googlemaps\n",
    "from datetime import time\n"
   ]
  },
  {
   "cell_type": "markdown",
   "metadata": {},
   "source": [
    "### Cargar datos"
   ]
  },
  {
   "cell_type": "code",
   "execution_count": null,
   "metadata": {},
   "outputs": [],
   "source": [
    "data=pd.read_csv('Accidentalidad_en_Barranquilla_20231015.csv')"
   ]
  },
  {
   "cell_type": "code",
   "execution_count": null,
   "metadata": {},
   "outputs": [],
   "source": [
    "\n",
    "data"
   ]
  },
  {
   "cell_type": "code",
   "execution_count": null,
   "metadata": {},
   "outputs": [],
   "source": [
    "data = data.dropna(subset=['SITIO_EXACTO_ACCIDENTE'])\n"
   ]
  },
  {
   "cell_type": "markdown",
   "metadata": {},
   "source": [
    "### PASO 1: Geocodificación"
   ]
  },
  {
   "cell_type": "markdown",
   "metadata": {},
   "source": [
    "Podemos observar que las direcciones deben codificarse de manera que sea mucho más facil localizar el accidente. Procederemos de la siguiente manera:\n",
    "1. Crear un funcion que nos permita 'geocodificar' las direcciones en latitud y longitud, como dos nuevas columnas del dataset.\n",
    "2. Dados los costos de usar la api de googlemaps aplicaremos la funcion solo a las direcciones UNICAS. \n",
    "3. Finalmente exportaremos nuestros resultados en un archivo csv. "
   ]
  },
  {
   "cell_type": "code",
   "execution_count": null,
   "metadata": {},
   "outputs": [],
   "source": [
    "\n",
    "# Inicializa el cliente de Google Maps\n",
    "gmaps = googlemaps.Client(key='xxxxxxxxxxxxxxxxxxxxx')\n",
    "\n",
    "# Define una función para obtener la latitud y longitud de una dirección\n",
    "def obtener_latitud_longitud(direccion, gmaps_client):\n",
    "    try:\n",
    "        # Utiliza el geocodificador de lote para reducir las llamadas a la API\n",
    "        geocode_result = gmaps_client.geocode(direccion + ', Barranquilla, Colombia')\n",
    "\n",
    "        if geocode_result:\n",
    "            location = geocode_result[0]['geometry']['location']\n",
    "            latitud = location['lat']\n",
    "            longitud = location['lng']\n",
    "            return latitud, longitud\n",
    "        else:\n",
    "            return None, None\n",
    "    except Exception as e:\n",
    "        print(f\"Error en la geocodificación: {str(e)}\")\n",
    "        return None, None\n",
    "\n",
    "\n"
   ]
  },
  {
   "cell_type": "code",
   "execution_count": null,
   "metadata": {},
   "outputs": [],
   "source": [
    "#mascara_duplicados = data['SITIO_EXACTO_ACCIDENTE'].duplicated(keep='first')\n"
   ]
  },
  {
   "cell_type": "code",
   "execution_count": null,
   "metadata": {},
   "outputs": [],
   "source": [
    "#data_unicos=data[~mascara_duplicados]"
   ]
  },
  {
   "cell_type": "code",
   "execution_count": null,
   "metadata": {},
   "outputs": [],
   "source": [
    "#data_unicos.head()"
   ]
  },
  {
   "cell_type": "code",
   "execution_count": null,
   "metadata": {},
   "outputs": [],
   "source": [
    "#Apliación de la función\n",
    "#data_unicos['latitud'], data_unicos['longitud'] = zip(*data_unicos['SITIO_EXACTO_ACCIDENTE'].apply(lambda x: obtener_latitud_longitud(x, gmaps)))"
   ]
  },
  {
   "cell_type": "code",
   "execution_count": null,
   "metadata": {},
   "outputs": [],
   "source": [
    "#data_unicos.head()"
   ]
  },
  {
   "cell_type": "code",
   "execution_count": null,
   "metadata": {},
   "outputs": [],
   "source": [
    "#data_unicos.to_csv('datos_unicos.csv', index=False)  guardar dataset con las direcciones codificadas en latitud y longitud \n"
   ]
  },
  {
   "cell_type": "markdown",
   "metadata": {},
   "source": [
    "### PASO 2: Manipulación de datos "
   ]
  },
  {
   "cell_type": "code",
   "execution_count": null,
   "metadata": {},
   "outputs": [],
   "source": [
    "data_unicos=pd.read_csv('datos_unicos.csv')"
   ]
  },
  {
   "cell_type": "code",
   "execution_count": null,
   "metadata": {},
   "outputs": [],
   "source": [
    "data_unicos.isna().sum()"
   ]
  },
  {
   "cell_type": "markdown",
   "metadata": {},
   "source": [
    "la geocodificacion dada por nuestra funcion devolvió algunos valores Nulos en las columnas latitud y longitud(limites de la api)  , para efectos practicos eliminemos esos valores.\n"
   ]
  },
  {
   "cell_type": "code",
   "execution_count": null,
   "metadata": {},
   "outputs": [],
   "source": [
    "data_unicos=data_unicos.dropna(subset=['latitud','longitud'], axis=0)"
   ]
  },
  {
   "cell_type": "markdown",
   "metadata": {},
   "source": [
    "Procederemos de la siguiente forma:\n",
    "1. Tomaremos las direcciones duplicadas y las uniremos con las UNICAS.\n",
    "2. Se observará que para los valores duplicados, sus respectivas columnas 'latitud','longitud' serán nulas. \n",
    "3. Agrupando por SITIO_EXACTO_ACCIDENTE y utilizando una funcion lambda, podremos finalmente salvar la mayoria de registros asignandoles sus respectivos valores."
   ]
  },
  {
   "cell_type": "code",
   "execution_count": null,
   "metadata": {},
   "outputs": [],
   "source": [
    "#1\n",
    "mascara_duplicados = data['SITIO_EXACTO_ACCIDENTE'].duplicated(keep='first')\n"
   ]
  },
  {
   "cell_type": "code",
   "execution_count": null,
   "metadata": {},
   "outputs": [],
   "source": [
    "df=data[mascara_duplicados]"
   ]
  },
  {
   "cell_type": "code",
   "execution_count": null,
   "metadata": {},
   "outputs": [],
   "source": [
    "#2\n",
    "df_merged = pd.merge(data_unicos, df, how='outer')\n"
   ]
  },
  {
   "cell_type": "code",
   "execution_count": null,
   "metadata": {},
   "outputs": [],
   "source": [
    "df_merged.tail()"
   ]
  },
  {
   "cell_type": "code",
   "execution_count": null,
   "metadata": {},
   "outputs": [],
   "source": [
    "#3\n",
    "grouped = df_merged.groupby('SITIO_EXACTO_ACCIDENTE')\n",
    "df_merged['latitud'] = grouped['latitud'].transform(lambda x: x.fillna(x.max()))\n",
    "df_merged['longitud'] = grouped['longitud'].transform(lambda x: x.fillna(x.max()))\n"
   ]
  },
  {
   "cell_type": "code",
   "execution_count": null,
   "metadata": {},
   "outputs": [],
   "source": [
    "df_merged.isna().sum()"
   ]
  },
  {
   "cell_type": "markdown",
   "metadata": {},
   "source": [
    "Como se observa persisten algunos valores NA en latitud y longitud que no puedieron ser geocodificados. Como son una cantidad pequeña podemos corregir:"
   ]
  },
  {
   "cell_type": "code",
   "execution_count": null,
   "metadata": {},
   "outputs": [],
   "source": [
    "# Primero, consideremos una máscara booleana para identificar las filas con valores faltantes en 'latitud' y 'longitud'\n",
    "masc = df_merged['latitud'].isna()\n",
    "masc1 = df_merged['longitud'].isna()\n",
    "# Luego, aplica la función solo a las filas que cumplen con la máscara y actualiza 'latitud' y 'longitud' en esas filas\n",
    "df_merged.loc[masc, 'latitud'] = df_merged.loc[masc, 'SITIO_EXACTO_ACCIDENTE'].apply(lambda x: obtener_latitud_longitud(x, gmaps)[0])\n",
    "df_merged.loc[masc1, 'longitud'] = df_merged.loc[masc1, 'SITIO_EXACTO_ACCIDENTE'].apply(lambda x: obtener_latitud_longitud(x, gmaps)[1])\n"
   ]
  },
  {
   "cell_type": "code",
   "execution_count": null,
   "metadata": {},
   "outputs": [],
   "source": [
    "df_merged.isna().sum()"
   ]
  },
  {
   "cell_type": "code",
   "execution_count": null,
   "metadata": {},
   "outputs": [],
   "source": [
    "df_merged.to_csv('datos.csv', index=False)"
   ]
  },
  {
   "cell_type": "markdown",
   "metadata": {},
   "source": [
    "## DESDE AQUI "
   ]
  },
  {
   "cell_type": "code",
   "execution_count": 5,
   "metadata": {},
   "outputs": [],
   "source": [
    "datos=pd.read_csv('datos.csv')"
   ]
  },
  {
   "cell_type": "code",
   "execution_count": 6,
   "metadata": {},
   "outputs": [
    {
     "data": {
      "text/html": [
       "<div>\n",
       "<style scoped>\n",
       "    .dataframe tbody tr th:only-of-type {\n",
       "        vertical-align: middle;\n",
       "    }\n",
       "\n",
       "    .dataframe tbody tr th {\n",
       "        vertical-align: top;\n",
       "    }\n",
       "\n",
       "    .dataframe thead th {\n",
       "        text-align: right;\n",
       "    }\n",
       "</style>\n",
       "<table border=\"1\" class=\"dataframe\">\n",
       "  <thead>\n",
       "    <tr style=\"text-align: right;\">\n",
       "      <th></th>\n",
       "      <th>FECHA_ACCIDENTE</th>\n",
       "      <th>AÑO_ACCIDENTE</th>\n",
       "      <th>MES_ACCIDENTE</th>\n",
       "      <th>DIA_ACCIDENTE</th>\n",
       "      <th>HORA_ACCIDENTE</th>\n",
       "      <th>GRAVEDAD_ACCIDENTE</th>\n",
       "      <th>CLASE_ACCIDENTE</th>\n",
       "      <th>SITIO_EXACTO_ACCIDENTE</th>\n",
       "      <th>CANT_HERIDOS_EN _SITIO_ACCIDENTE</th>\n",
       "      <th>CANT_MUERTOS_EN _SITIO_ACCIDENTE</th>\n",
       "      <th>CANTIDAD_ACCIDENTES</th>\n",
       "      <th>latitud</th>\n",
       "      <th>longitud</th>\n",
       "    </tr>\n",
       "  </thead>\n",
       "  <tbody>\n",
       "    <tr>\n",
       "      <th>0</th>\n",
       "      <td>2015-01-01T00:00:00.000</td>\n",
       "      <td>2015</td>\n",
       "      <td>enero</td>\n",
       "      <td>Jue</td>\n",
       "      <td>03:30:00:PM</td>\n",
       "      <td>Con heridos</td>\n",
       "      <td>Choque</td>\n",
       "      <td>CL 45 CR 19</td>\n",
       "      <td>2.0</td>\n",
       "      <td>NaN</td>\n",
       "      <td>1</td>\n",
       "      <td>10.958364</td>\n",
       "      <td>-74.794731</td>\n",
       "    </tr>\n",
       "    <tr>\n",
       "      <th>1</th>\n",
       "      <td>2015-01-01T00:00:00.000</td>\n",
       "      <td>2015</td>\n",
       "      <td>enero</td>\n",
       "      <td>Jue</td>\n",
       "      <td>04:20:00:AM</td>\n",
       "      <td>Solo daños</td>\n",
       "      <td>Choque</td>\n",
       "      <td>CRA 15 CLLE 21</td>\n",
       "      <td>NaN</td>\n",
       "      <td>NaN</td>\n",
       "      <td>1</td>\n",
       "      <td>10.953501</td>\n",
       "      <td>-74.776203</td>\n",
       "    </tr>\n",
       "    <tr>\n",
       "      <th>2</th>\n",
       "      <td>2015-01-01T00:00:00.000</td>\n",
       "      <td>2015</td>\n",
       "      <td>enero</td>\n",
       "      <td>Jue</td>\n",
       "      <td>04:40:00:PM</td>\n",
       "      <td>Con heridos</td>\n",
       "      <td>Choque</td>\n",
       "      <td>CRA 14 CLLE 35</td>\n",
       "      <td>2.0</td>\n",
       "      <td>NaN</td>\n",
       "      <td>1</td>\n",
       "      <td>10.951457</td>\n",
       "      <td>-74.788801</td>\n",
       "    </tr>\n",
       "    <tr>\n",
       "      <th>3</th>\n",
       "      <td>2015-01-01T00:00:00.000</td>\n",
       "      <td>2015</td>\n",
       "      <td>enero</td>\n",
       "      <td>Jue</td>\n",
       "      <td>04:50:00:PM</td>\n",
       "      <td>Con heridos</td>\n",
       "      <td>Atropello</td>\n",
       "      <td>CRA 6 CLLE 90</td>\n",
       "      <td>1.0</td>\n",
       "      <td>NaN</td>\n",
       "      <td>1</td>\n",
       "      <td>10.945047</td>\n",
       "      <td>-74.823964</td>\n",
       "    </tr>\n",
       "    <tr>\n",
       "      <th>4</th>\n",
       "      <td>2015-01-01T00:00:00.000</td>\n",
       "      <td>2015</td>\n",
       "      <td>enero</td>\n",
       "      <td>Jue</td>\n",
       "      <td>06:00:00:AM</td>\n",
       "      <td>Solo daños</td>\n",
       "      <td>Choque</td>\n",
       "      <td>CRA 6 CLLE 92</td>\n",
       "      <td>NaN</td>\n",
       "      <td>NaN</td>\n",
       "      <td>1</td>\n",
       "      <td>10.944513</td>\n",
       "      <td>-74.825546</td>\n",
       "    </tr>\n",
       "    <tr>\n",
       "      <th>...</th>\n",
       "      <td>...</td>\n",
       "      <td>...</td>\n",
       "      <td>...</td>\n",
       "      <td>...</td>\n",
       "      <td>...</td>\n",
       "      <td>...</td>\n",
       "      <td>...</td>\n",
       "      <td>...</td>\n",
       "      <td>...</td>\n",
       "      <td>...</td>\n",
       "      <td>...</td>\n",
       "      <td>...</td>\n",
       "      <td>...</td>\n",
       "    </tr>\n",
       "    <tr>\n",
       "      <th>40891</th>\n",
       "      <td>31/05/2023</td>\n",
       "      <td>2023</td>\n",
       "      <td>Mayo</td>\n",
       "      <td>Miercoles</td>\n",
       "      <td>09:40:00:am</td>\n",
       "      <td>Con heridos</td>\n",
       "      <td>Choque</td>\n",
       "      <td>CALLE 100 CARRERA 37</td>\n",
       "      <td>1.0</td>\n",
       "      <td>NaN</td>\n",
       "      <td>1</td>\n",
       "      <td>10.981969</td>\n",
       "      <td>-74.832339</td>\n",
       "    </tr>\n",
       "    <tr>\n",
       "      <th>40892</th>\n",
       "      <td>31/05/2023</td>\n",
       "      <td>2023</td>\n",
       "      <td>Mayo</td>\n",
       "      <td>Miercoles</td>\n",
       "      <td>10:50:00:am</td>\n",
       "      <td>Con heridos</td>\n",
       "      <td>Atropello</td>\n",
       "      <td>CRA 6 CALLE 110</td>\n",
       "      <td>1.0</td>\n",
       "      <td>NaN</td>\n",
       "      <td>1</td>\n",
       "      <td>11.033264</td>\n",
       "      <td>-74.830955</td>\n",
       "    </tr>\n",
       "    <tr>\n",
       "      <th>40893</th>\n",
       "      <td>31/07/2023</td>\n",
       "      <td>2023</td>\n",
       "      <td>Julio</td>\n",
       "      <td>Lunes</td>\n",
       "      <td>07:40:00:am</td>\n",
       "      <td>Con heridos</td>\n",
       "      <td>Atropello</td>\n",
       "      <td>CARRERA 44 CON CALLE 75</td>\n",
       "      <td>1.0</td>\n",
       "      <td>NaN</td>\n",
       "      <td>1</td>\n",
       "      <td>10.994334</td>\n",
       "      <td>-74.809761</td>\n",
       "    </tr>\n",
       "    <tr>\n",
       "      <th>40894</th>\n",
       "      <td>31/08/2023</td>\n",
       "      <td>2023</td>\n",
       "      <td>Agosto</td>\n",
       "      <td>Jueves</td>\n",
       "      <td>02:30:00:am</td>\n",
       "      <td>Con heridos</td>\n",
       "      <td>Choque</td>\n",
       "      <td>CALLE 4 CARRERA 38</td>\n",
       "      <td>2.0</td>\n",
       "      <td>NaN</td>\n",
       "      <td>1</td>\n",
       "      <td>10.971208</td>\n",
       "      <td>-74.764606</td>\n",
       "    </tr>\n",
       "    <tr>\n",
       "      <th>40895</th>\n",
       "      <td>31/08/2023</td>\n",
       "      <td>2023</td>\n",
       "      <td>Agosto</td>\n",
       "      <td>Jueves</td>\n",
       "      <td>08:20:00:am</td>\n",
       "      <td>Con heridos</td>\n",
       "      <td>Caida Ocupante</td>\n",
       "      <td>CALLE 38 CARRERA 40</td>\n",
       "      <td>1.0</td>\n",
       "      <td>NaN</td>\n",
       "      <td>1</td>\n",
       "      <td>10.979968</td>\n",
       "      <td>-74.781278</td>\n",
       "    </tr>\n",
       "  </tbody>\n",
       "</table>\n",
       "<p>40896 rows × 13 columns</p>\n",
       "</div>"
      ],
      "text/plain": [
       "               FECHA_ACCIDENTE  AÑO_ACCIDENTE MES_ACCIDENTE DIA_ACCIDENTE  \\\n",
       "0      2015-01-01T00:00:00.000           2015         enero           Jue   \n",
       "1      2015-01-01T00:00:00.000           2015         enero           Jue   \n",
       "2      2015-01-01T00:00:00.000           2015         enero           Jue   \n",
       "3      2015-01-01T00:00:00.000           2015         enero           Jue   \n",
       "4      2015-01-01T00:00:00.000           2015         enero           Jue   \n",
       "...                        ...            ...           ...           ...   \n",
       "40891               31/05/2023           2023          Mayo     Miercoles   \n",
       "40892               31/05/2023           2023          Mayo     Miercoles   \n",
       "40893               31/07/2023           2023         Julio         Lunes   \n",
       "40894               31/08/2023           2023        Agosto        Jueves   \n",
       "40895               31/08/2023           2023        Agosto        Jueves   \n",
       "\n",
       "      HORA_ACCIDENTE GRAVEDAD_ACCIDENTE CLASE_ACCIDENTE  \\\n",
       "0        03:30:00:PM        Con heridos          Choque   \n",
       "1        04:20:00:AM         Solo daños          Choque   \n",
       "2        04:40:00:PM        Con heridos          Choque   \n",
       "3        04:50:00:PM        Con heridos       Atropello   \n",
       "4        06:00:00:AM         Solo daños          Choque   \n",
       "...              ...                ...             ...   \n",
       "40891    09:40:00:am        Con heridos          Choque   \n",
       "40892    10:50:00:am        Con heridos       Atropello   \n",
       "40893    07:40:00:am        Con heridos       Atropello   \n",
       "40894    02:30:00:am        Con heridos          Choque   \n",
       "40895    08:20:00:am        Con heridos  Caida Ocupante   \n",
       "\n",
       "        SITIO_EXACTO_ACCIDENTE  CANT_HERIDOS_EN _SITIO_ACCIDENTE  \\\n",
       "0                  CL 45 CR 19                               2.0   \n",
       "1               CRA 15 CLLE 21                               NaN   \n",
       "2               CRA 14 CLLE 35                               2.0   \n",
       "3                CRA 6 CLLE 90                               1.0   \n",
       "4                CRA 6 CLLE 92                               NaN   \n",
       "...                        ...                               ...   \n",
       "40891     CALLE 100 CARRERA 37                               1.0   \n",
       "40892          CRA 6 CALLE 110                               1.0   \n",
       "40893  CARRERA 44 CON CALLE 75                               1.0   \n",
       "40894       CALLE 4 CARRERA 38                               2.0   \n",
       "40895      CALLE 38 CARRERA 40                               1.0   \n",
       "\n",
       "       CANT_MUERTOS_EN _SITIO_ACCIDENTE  CANTIDAD_ACCIDENTES    latitud  \\\n",
       "0                                   NaN                    1  10.958364   \n",
       "1                                   NaN                    1  10.953501   \n",
       "2                                   NaN                    1  10.951457   \n",
       "3                                   NaN                    1  10.945047   \n",
       "4                                   NaN                    1  10.944513   \n",
       "...                                 ...                  ...        ...   \n",
       "40891                               NaN                    1  10.981969   \n",
       "40892                               NaN                    1  11.033264   \n",
       "40893                               NaN                    1  10.994334   \n",
       "40894                               NaN                    1  10.971208   \n",
       "40895                               NaN                    1  10.979968   \n",
       "\n",
       "        longitud  \n",
       "0     -74.794731  \n",
       "1     -74.776203  \n",
       "2     -74.788801  \n",
       "3     -74.823964  \n",
       "4     -74.825546  \n",
       "...          ...  \n",
       "40891 -74.832339  \n",
       "40892 -74.830955  \n",
       "40893 -74.809761  \n",
       "40894 -74.764606  \n",
       "40895 -74.781278  \n",
       "\n",
       "[40896 rows x 13 columns]"
      ]
     },
     "execution_count": 6,
     "metadata": {},
     "output_type": "execute_result"
    }
   ],
   "source": [
    "datos"
   ]
  },
  {
   "cell_type": "code",
   "execution_count": 7,
   "metadata": {},
   "outputs": [],
   "source": [
    "# Notese que en la columna FECHA_ACCIDENTE hay distintos tipos de formatos. Procedamos a uniformarlos\n",
    "\n",
    "def convertir_a_formato_uniforme(fecha):\n",
    "    try:\n",
    "        return pd.to_datetime(fecha)\n",
    "    except:\n",
    "        return None\n",
    "\n",
    "# Aplica la función a la columna 'FECHA_ACCIDENTE'\n",
    "datos['FECHA_ACCIDENTE'] = datos['FECHA_ACCIDENTE'].apply(convertir_a_formato_uniforme)"
   ]
  },
  {
   "cell_type": "markdown",
   "metadata": {},
   "source": [
    "Eliminemos las columnas AÑO_ACCIDENTE\tMES_ACCIDENTE\tDIA_ACCIDENTE y agreguemos HORA_ACCIDENTE(convertir a formato datetime) a la fecha."
   ]
  },
  {
   "cell_type": "code",
   "execution_count": null,
   "metadata": {},
   "outputs": [],
   "source": [
    "datos['HORA_ACCIDENTE']"
   ]
  },
  {
   "cell_type": "markdown",
   "metadata": {},
   "source": [
    "Notese que la hora está dada en un formato que no reconoce pandas. Así, mediante la siguiente función lo cambiaremos"
   ]
  },
  {
   "cell_type": "code",
   "execution_count": 8,
   "metadata": {},
   "outputs": [],
   "source": [
    "def convertir_formato(time_str):\n",
    "    # Separa la cadena en partes usando \":\"\n",
    "    parts = time_str.split(':')\n",
    "    # Extrae las horas, minutos y segundos\n",
    "    hour = int(parts[0])\n",
    "    minute = int(parts[1])\n",
    "    second = int(parts[2])\n",
    "    # Verifica si es PM o pm y ajusta las horas\n",
    "    if (parts[3] == 'PM' or parts[3] == 'pm'):\n",
    "        if hour != 12:\n",
    "            hour += 12\n",
    "    elif hour == 12:\n",
    "        # Si es AM y la hora es 12, cámbiala a 0\n",
    "        hour = 0\n",
    "    return time(hour, minute, second)\n",
    "\n",
    "# Aplica la función a la columna 'HORA_ACCIDENTE'\n",
    "datos['HORA_ACCIDENTE'] = datos['HORA_ACCIDENTE'].apply(convertir_formato)"
   ]
  },
  {
   "cell_type": "code",
   "execution_count": 9,
   "metadata": {},
   "outputs": [],
   "source": [
    "#Cambiar a formato datetime hora\n",
    "datos['HORA_ACCIDENTE'] = pd.to_datetime(datos['HORA_ACCIDENTE'], format='%H:%M:%S').dt.time\n"
   ]
  },
  {
   "cell_type": "code",
   "execution_count": 10,
   "metadata": {},
   "outputs": [],
   "source": [
    "#Unir las columnas HORA_ACCIDENTE y FECHA_ACCIDENTE\n",
    "datos['FECHA_ACCIDENTE'] =datos['FECHA_ACCIDENTE'] + pd.to_timedelta(datos['HORA_ACCIDENTE'].astype(str))\n"
   ]
  },
  {
   "cell_type": "code",
   "execution_count": 11,
   "metadata": {},
   "outputs": [],
   "source": [
    "# Removiendo columnas innecesarias: AÑO_ACCIDENTE, MES_ACCIDENTE, DIA_ACCIDENTE, HORA_ACCIDENTE\n",
    "datos=datos.drop(columns=['AÑO_ACCIDENTE',\n",
    " 'MES_ACCIDENTE',\n",
    " 'DIA_ACCIDENTE',\n",
    " 'HORA_ACCIDENTE','SITIO_EXACTO_ACCIDENTE'])"
   ]
  },
  {
   "cell_type": "code",
   "execution_count": 27,
   "metadata": {},
   "outputs": [
    {
     "data": {
      "text/plain": [
       "0"
      ]
     },
     "execution_count": 27,
     "metadata": {},
     "output_type": "execute_result"
    }
   ],
   "source": [
    "datos['CANT_HERIDOS_EN _SITIO_ACCIDENTE'].isna().sum()"
   ]
  },
  {
   "cell_type": "code",
   "execution_count": 26,
   "metadata": {},
   "outputs": [],
   "source": [
    "datos['CANT_HERIDOS_EN _SITIO_ACCIDENTE']=datos['CANT_HERIDOS_EN _SITIO_ACCIDENTE'].fillna(0)"
   ]
  },
  {
   "cell_type": "code",
   "execution_count": 29,
   "metadata": {},
   "outputs": [],
   "source": [
    "datos['CANT_HERIDOS_EN _SITIO_ACCIDENTE']=datos['CANT_HERIDOS_EN _SITIO_ACCIDENTE'].astype(int)"
   ]
  },
  {
   "cell_type": "code",
   "execution_count": 30,
   "metadata": {},
   "outputs": [
    {
     "data": {
      "text/html": [
       "<div>\n",
       "<style scoped>\n",
       "    .dataframe tbody tr th:only-of-type {\n",
       "        vertical-align: middle;\n",
       "    }\n",
       "\n",
       "    .dataframe tbody tr th {\n",
       "        vertical-align: top;\n",
       "    }\n",
       "\n",
       "    .dataframe thead th {\n",
       "        text-align: right;\n",
       "    }\n",
       "</style>\n",
       "<table border=\"1\" class=\"dataframe\">\n",
       "  <thead>\n",
       "    <tr style=\"text-align: right;\">\n",
       "      <th></th>\n",
       "      <th>FECHA_ACCIDENTE</th>\n",
       "      <th>GRAVEDAD_ACCIDENTE</th>\n",
       "      <th>CLASE_ACCIDENTE</th>\n",
       "      <th>CANT_HERIDOS_EN _SITIO_ACCIDENTE</th>\n",
       "      <th>CANT_MUERTOS_EN _SITIO_ACCIDENTE</th>\n",
       "      <th>CANTIDAD_ACCIDENTES</th>\n",
       "      <th>latitud</th>\n",
       "      <th>longitud</th>\n",
       "    </tr>\n",
       "  </thead>\n",
       "  <tbody>\n",
       "    <tr>\n",
       "      <th>0</th>\n",
       "      <td>2015-01-01 15:30:00</td>\n",
       "      <td>Con heridos</td>\n",
       "      <td>Choque</td>\n",
       "      <td>2</td>\n",
       "      <td>NaN</td>\n",
       "      <td>1</td>\n",
       "      <td>10.958364</td>\n",
       "      <td>-74.794731</td>\n",
       "    </tr>\n",
       "    <tr>\n",
       "      <th>1</th>\n",
       "      <td>2015-01-01 04:20:00</td>\n",
       "      <td>Solo daños</td>\n",
       "      <td>Choque</td>\n",
       "      <td>0</td>\n",
       "      <td>NaN</td>\n",
       "      <td>1</td>\n",
       "      <td>10.953501</td>\n",
       "      <td>-74.776203</td>\n",
       "    </tr>\n",
       "    <tr>\n",
       "      <th>2</th>\n",
       "      <td>2015-01-01 16:40:00</td>\n",
       "      <td>Con heridos</td>\n",
       "      <td>Choque</td>\n",
       "      <td>2</td>\n",
       "      <td>NaN</td>\n",
       "      <td>1</td>\n",
       "      <td>10.951457</td>\n",
       "      <td>-74.788801</td>\n",
       "    </tr>\n",
       "    <tr>\n",
       "      <th>3</th>\n",
       "      <td>2015-01-01 16:50:00</td>\n",
       "      <td>Con heridos</td>\n",
       "      <td>Atropello</td>\n",
       "      <td>1</td>\n",
       "      <td>NaN</td>\n",
       "      <td>1</td>\n",
       "      <td>10.945047</td>\n",
       "      <td>-74.823964</td>\n",
       "    </tr>\n",
       "    <tr>\n",
       "      <th>4</th>\n",
       "      <td>2015-01-01 06:00:00</td>\n",
       "      <td>Solo daños</td>\n",
       "      <td>Choque</td>\n",
       "      <td>0</td>\n",
       "      <td>NaN</td>\n",
       "      <td>1</td>\n",
       "      <td>10.944513</td>\n",
       "      <td>-74.825546</td>\n",
       "    </tr>\n",
       "    <tr>\n",
       "      <th>...</th>\n",
       "      <td>...</td>\n",
       "      <td>...</td>\n",
       "      <td>...</td>\n",
       "      <td>...</td>\n",
       "      <td>...</td>\n",
       "      <td>...</td>\n",
       "      <td>...</td>\n",
       "      <td>...</td>\n",
       "    </tr>\n",
       "    <tr>\n",
       "      <th>40891</th>\n",
       "      <td>2023-05-31 09:40:00</td>\n",
       "      <td>Con heridos</td>\n",
       "      <td>Choque</td>\n",
       "      <td>1</td>\n",
       "      <td>NaN</td>\n",
       "      <td>1</td>\n",
       "      <td>10.981969</td>\n",
       "      <td>-74.832339</td>\n",
       "    </tr>\n",
       "    <tr>\n",
       "      <th>40892</th>\n",
       "      <td>2023-05-31 10:50:00</td>\n",
       "      <td>Con heridos</td>\n",
       "      <td>Atropello</td>\n",
       "      <td>1</td>\n",
       "      <td>NaN</td>\n",
       "      <td>1</td>\n",
       "      <td>11.033264</td>\n",
       "      <td>-74.830955</td>\n",
       "    </tr>\n",
       "    <tr>\n",
       "      <th>40893</th>\n",
       "      <td>2023-07-31 07:40:00</td>\n",
       "      <td>Con heridos</td>\n",
       "      <td>Atropello</td>\n",
       "      <td>1</td>\n",
       "      <td>NaN</td>\n",
       "      <td>1</td>\n",
       "      <td>10.994334</td>\n",
       "      <td>-74.809761</td>\n",
       "    </tr>\n",
       "    <tr>\n",
       "      <th>40894</th>\n",
       "      <td>2023-08-31 02:30:00</td>\n",
       "      <td>Con heridos</td>\n",
       "      <td>Choque</td>\n",
       "      <td>2</td>\n",
       "      <td>NaN</td>\n",
       "      <td>1</td>\n",
       "      <td>10.971208</td>\n",
       "      <td>-74.764606</td>\n",
       "    </tr>\n",
       "    <tr>\n",
       "      <th>40895</th>\n",
       "      <td>2023-08-31 08:20:00</td>\n",
       "      <td>Con heridos</td>\n",
       "      <td>Caida Ocupante</td>\n",
       "      <td>1</td>\n",
       "      <td>NaN</td>\n",
       "      <td>1</td>\n",
       "      <td>10.979968</td>\n",
       "      <td>-74.781278</td>\n",
       "    </tr>\n",
       "  </tbody>\n",
       "</table>\n",
       "<p>40896 rows × 8 columns</p>\n",
       "</div>"
      ],
      "text/plain": [
       "          FECHA_ACCIDENTE GRAVEDAD_ACCIDENTE CLASE_ACCIDENTE  \\\n",
       "0     2015-01-01 15:30:00        Con heridos          Choque   \n",
       "1     2015-01-01 04:20:00         Solo daños          Choque   \n",
       "2     2015-01-01 16:40:00        Con heridos          Choque   \n",
       "3     2015-01-01 16:50:00        Con heridos       Atropello   \n",
       "4     2015-01-01 06:00:00         Solo daños          Choque   \n",
       "...                   ...                ...             ...   \n",
       "40891 2023-05-31 09:40:00        Con heridos          Choque   \n",
       "40892 2023-05-31 10:50:00        Con heridos       Atropello   \n",
       "40893 2023-07-31 07:40:00        Con heridos       Atropello   \n",
       "40894 2023-08-31 02:30:00        Con heridos          Choque   \n",
       "40895 2023-08-31 08:20:00        Con heridos  Caida Ocupante   \n",
       "\n",
       "       CANT_HERIDOS_EN _SITIO_ACCIDENTE  CANT_MUERTOS_EN _SITIO_ACCIDENTE  \\\n",
       "0                                     2                               NaN   \n",
       "1                                     0                               NaN   \n",
       "2                                     2                               NaN   \n",
       "3                                     1                               NaN   \n",
       "4                                     0                               NaN   \n",
       "...                                 ...                               ...   \n",
       "40891                                 1                               NaN   \n",
       "40892                                 1                               NaN   \n",
       "40893                                 1                               NaN   \n",
       "40894                                 2                               NaN   \n",
       "40895                                 1                               NaN   \n",
       "\n",
       "       CANTIDAD_ACCIDENTES    latitud   longitud  \n",
       "0                        1  10.958364 -74.794731  \n",
       "1                        1  10.953501 -74.776203  \n",
       "2                        1  10.951457 -74.788801  \n",
       "3                        1  10.945047 -74.823964  \n",
       "4                        1  10.944513 -74.825546  \n",
       "...                    ...        ...        ...  \n",
       "40891                    1  10.981969 -74.832339  \n",
       "40892                    1  11.033264 -74.830955  \n",
       "40893                    1  10.994334 -74.809761  \n",
       "40894                    1  10.971208 -74.764606  \n",
       "40895                    1  10.979968 -74.781278  \n",
       "\n",
       "[40896 rows x 8 columns]"
      ]
     },
     "execution_count": 30,
     "metadata": {},
     "output_type": "execute_result"
    }
   ],
   "source": [
    "datos"
   ]
  },
  {
   "cell_type": "code",
   "execution_count": 38,
   "metadata": {},
   "outputs": [],
   "source": [
    "datos['CANT_MUERTOS_EN _SITIO_ACCIDENTE']=datos['CANT_MUERTOS_EN _SITIO_ACCIDENTE'].astype(int).fillna(0)"
   ]
  },
  {
   "cell_type": "code",
   "execution_count": 47,
   "metadata": {},
   "outputs": [
    {
     "data": {
      "text/html": [
       "<div>\n",
       "<style scoped>\n",
       "    .dataframe tbody tr th:only-of-type {\n",
       "        vertical-align: middle;\n",
       "    }\n",
       "\n",
       "    .dataframe tbody tr th {\n",
       "        vertical-align: top;\n",
       "    }\n",
       "\n",
       "    .dataframe thead th {\n",
       "        text-align: right;\n",
       "    }\n",
       "</style>\n",
       "<table border=\"1\" class=\"dataframe\">\n",
       "  <thead>\n",
       "    <tr style=\"text-align: right;\">\n",
       "      <th></th>\n",
       "      <th>FECHA_ACCIDENTE</th>\n",
       "      <th>GRAVEDAD_ACCIDENTE</th>\n",
       "      <th>CLASE_ACCIDENTE</th>\n",
       "      <th>CANT_HERIDOS_EN _SITIO_ACCIDENTE</th>\n",
       "      <th>CANT_MUERTOS_EN _SITIO_ACCIDENTE</th>\n",
       "      <th>CANTIDAD_ACCIDENTES</th>\n",
       "      <th>latitud</th>\n",
       "      <th>longitud</th>\n",
       "    </tr>\n",
       "  </thead>\n",
       "  <tbody>\n",
       "    <tr>\n",
       "      <th>0</th>\n",
       "      <td>2015-01-01 15:30:00</td>\n",
       "      <td>Con heridos</td>\n",
       "      <td>Choque</td>\n",
       "      <td>2</td>\n",
       "      <td>0</td>\n",
       "      <td>1</td>\n",
       "      <td>10.958364</td>\n",
       "      <td>-74.794731</td>\n",
       "    </tr>\n",
       "    <tr>\n",
       "      <th>1</th>\n",
       "      <td>2015-01-01 04:20:00</td>\n",
       "      <td>Solo daños</td>\n",
       "      <td>Choque</td>\n",
       "      <td>0</td>\n",
       "      <td>0</td>\n",
       "      <td>1</td>\n",
       "      <td>10.953501</td>\n",
       "      <td>-74.776203</td>\n",
       "    </tr>\n",
       "    <tr>\n",
       "      <th>2</th>\n",
       "      <td>2015-01-01 16:40:00</td>\n",
       "      <td>Con heridos</td>\n",
       "      <td>Choque</td>\n",
       "      <td>2</td>\n",
       "      <td>0</td>\n",
       "      <td>1</td>\n",
       "      <td>10.951457</td>\n",
       "      <td>-74.788801</td>\n",
       "    </tr>\n",
       "    <tr>\n",
       "      <th>3</th>\n",
       "      <td>2015-01-01 16:50:00</td>\n",
       "      <td>Con heridos</td>\n",
       "      <td>Atropello</td>\n",
       "      <td>1</td>\n",
       "      <td>0</td>\n",
       "      <td>1</td>\n",
       "      <td>10.945047</td>\n",
       "      <td>-74.823964</td>\n",
       "    </tr>\n",
       "    <tr>\n",
       "      <th>4</th>\n",
       "      <td>2015-01-01 06:00:00</td>\n",
       "      <td>Solo daños</td>\n",
       "      <td>Choque</td>\n",
       "      <td>0</td>\n",
       "      <td>0</td>\n",
       "      <td>1</td>\n",
       "      <td>10.944513</td>\n",
       "      <td>-74.825546</td>\n",
       "    </tr>\n",
       "    <tr>\n",
       "      <th>...</th>\n",
       "      <td>...</td>\n",
       "      <td>...</td>\n",
       "      <td>...</td>\n",
       "      <td>...</td>\n",
       "      <td>...</td>\n",
       "      <td>...</td>\n",
       "      <td>...</td>\n",
       "      <td>...</td>\n",
       "    </tr>\n",
       "    <tr>\n",
       "      <th>40891</th>\n",
       "      <td>2023-05-31 09:40:00</td>\n",
       "      <td>Con heridos</td>\n",
       "      <td>Choque</td>\n",
       "      <td>1</td>\n",
       "      <td>0</td>\n",
       "      <td>1</td>\n",
       "      <td>10.981969</td>\n",
       "      <td>-74.832339</td>\n",
       "    </tr>\n",
       "    <tr>\n",
       "      <th>40892</th>\n",
       "      <td>2023-05-31 10:50:00</td>\n",
       "      <td>Con heridos</td>\n",
       "      <td>Atropello</td>\n",
       "      <td>1</td>\n",
       "      <td>0</td>\n",
       "      <td>1</td>\n",
       "      <td>11.033264</td>\n",
       "      <td>-74.830955</td>\n",
       "    </tr>\n",
       "    <tr>\n",
       "      <th>40893</th>\n",
       "      <td>2023-07-31 07:40:00</td>\n",
       "      <td>Con heridos</td>\n",
       "      <td>Atropello</td>\n",
       "      <td>1</td>\n",
       "      <td>0</td>\n",
       "      <td>1</td>\n",
       "      <td>10.994334</td>\n",
       "      <td>-74.809761</td>\n",
       "    </tr>\n",
       "    <tr>\n",
       "      <th>40894</th>\n",
       "      <td>2023-08-31 02:30:00</td>\n",
       "      <td>Con heridos</td>\n",
       "      <td>Choque</td>\n",
       "      <td>2</td>\n",
       "      <td>0</td>\n",
       "      <td>1</td>\n",
       "      <td>10.971208</td>\n",
       "      <td>-74.764606</td>\n",
       "    </tr>\n",
       "    <tr>\n",
       "      <th>40895</th>\n",
       "      <td>2023-08-31 08:20:00</td>\n",
       "      <td>Con heridos</td>\n",
       "      <td>Caida Ocupante</td>\n",
       "      <td>1</td>\n",
       "      <td>0</td>\n",
       "      <td>1</td>\n",
       "      <td>10.979968</td>\n",
       "      <td>-74.781278</td>\n",
       "    </tr>\n",
       "  </tbody>\n",
       "</table>\n",
       "<p>40896 rows × 8 columns</p>\n",
       "</div>"
      ],
      "text/plain": [
       "          FECHA_ACCIDENTE GRAVEDAD_ACCIDENTE CLASE_ACCIDENTE  \\\n",
       "0     2015-01-01 15:30:00        Con heridos          Choque   \n",
       "1     2015-01-01 04:20:00         Solo daños          Choque   \n",
       "2     2015-01-01 16:40:00        Con heridos          Choque   \n",
       "3     2015-01-01 16:50:00        Con heridos       Atropello   \n",
       "4     2015-01-01 06:00:00         Solo daños          Choque   \n",
       "...                   ...                ...             ...   \n",
       "40891 2023-05-31 09:40:00        Con heridos          Choque   \n",
       "40892 2023-05-31 10:50:00        Con heridos       Atropello   \n",
       "40893 2023-07-31 07:40:00        Con heridos       Atropello   \n",
       "40894 2023-08-31 02:30:00        Con heridos          Choque   \n",
       "40895 2023-08-31 08:20:00        Con heridos  Caida Ocupante   \n",
       "\n",
       "       CANT_HERIDOS_EN _SITIO_ACCIDENTE  CANT_MUERTOS_EN _SITIO_ACCIDENTE  \\\n",
       "0                                     2                                 0   \n",
       "1                                     0                                 0   \n",
       "2                                     2                                 0   \n",
       "3                                     1                                 0   \n",
       "4                                     0                                 0   \n",
       "...                                 ...                               ...   \n",
       "40891                                 1                                 0   \n",
       "40892                                 1                                 0   \n",
       "40893                                 1                                 0   \n",
       "40894                                 2                                 0   \n",
       "40895                                 1                                 0   \n",
       "\n",
       "       CANTIDAD_ACCIDENTES    latitud   longitud  \n",
       "0                        1  10.958364 -74.794731  \n",
       "1                        1  10.953501 -74.776203  \n",
       "2                        1  10.951457 -74.788801  \n",
       "3                        1  10.945047 -74.823964  \n",
       "4                        1  10.944513 -74.825546  \n",
       "...                    ...        ...        ...  \n",
       "40891                    1  10.981969 -74.832339  \n",
       "40892                    1  11.033264 -74.830955  \n",
       "40893                    1  10.994334 -74.809761  \n",
       "40894                    1  10.971208 -74.764606  \n",
       "40895                    1  10.979968 -74.781278  \n",
       "\n",
       "[40896 rows x 8 columns]"
      ]
     },
     "execution_count": 47,
     "metadata": {},
     "output_type": "execute_result"
    }
   ],
   "source": [
    "datos"
   ]
  },
  {
   "cell_type": "code",
   "execution_count": 45,
   "metadata": {},
   "outputs": [],
   "source": [
    "#Exportando dataset listo para analisis\n",
    "datos.to_csv('data.csv', index=False)"
   ]
  }
 ],
 "metadata": {
  "kernelspec": {
   "display_name": "Python 3",
   "language": "python",
   "name": "python3"
  },
  "language_info": {
   "codemirror_mode": {
    "name": "ipython",
    "version": 3
   },
   "file_extension": ".py",
   "mimetype": "text/x-python",
   "name": "python",
   "nbconvert_exporter": "python",
   "pygments_lexer": "ipython3",
   "version": "3.11.6"
  }
 },
 "nbformat": 4,
 "nbformat_minor": 2
}
